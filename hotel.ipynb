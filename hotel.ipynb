{
  "nbformat": 4,
  "nbformat_minor": 0,
  "metadata": {
    "colab": {
      "provenance": []
    },
    "kernelspec": {
      "name": "python3",
      "display_name": "Python 3"
    },
    "language_info": {
      "name": "python"
    }
  },
  "cells": [
    {
      "cell_type": "code",
      "source": [
        "class client:\n",
        "    def __init__(self,name,last_name,email):\n",
        "        self.name=name\n",
        "        self.last_name=last_name\n",
        "        self.email=email\n",
        "\n",
        "class room:\n",
        "    def __init__(self,room_number,room_type):\n",
        "        self.room_number=room_number\n",
        "        self.room_type=room_type\n",
        "        self.available=True\n",
        "        self.clients=[]\n",
        "\n",
        "class hotel:\n",
        "    def __init__(self):\n",
        "        self.rooms=[]\n",
        "        self.clients=[]\n",
        "\n",
        "    def reserve_room(self,room_number,client):\n",
        "        for room in self.rooms:\n",
        "            if room.number==room_number:\n",
        "                if room.available==True:\n",
        "                    room.available=False\n",
        "                    self.clients.append(client)\n",
        "                    print(\"the room has been successfully reserved\")\n",
        "                    break\n",
        "                elif room.available==False:\n",
        "                    raise ValueError(\"the room is not available\")\n",
        "                    break\n",
        "                else:\n",
        "                    raise ValueError(\"this room number does not exist\")\n",
        "                    break"
      ],
      "metadata": {
        "id": "R6HrHrYcl5EA"
      },
      "execution_count": 3,
      "outputs": []
    }
  ]
}